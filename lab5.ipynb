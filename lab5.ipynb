{
 "cells": [
  {
   "cell_type": "markdown",
   "id": "7bc3fb90",
   "metadata": {},
   "source": [
    "# Lab 5: \n",
    "\n",
    "Lab session by:\n",
    "* Daniel Hess\n",
    "* Pandelis Laurens Symeonidis"
   ]
  },
  {
   "cell_type": "code",
   "execution_count": 2,
   "id": "73cded5f",
   "metadata": {},
   "outputs": [
    {
     "name": "stderr",
     "output_type": "stream",
     "text": [
      "[nltk_data] Downloading package wordnet to\n",
      "[nltk_data]     /Users/pandelissymeonidis/nltk_data...\n",
      "[nltk_data]   Package wordnet is already up-to-date!\n",
      "[nltk_data] Downloading package omw-1.4 to\n",
      "[nltk_data]     /Users/pandelissymeonidis/nltk_data...\n",
      "[nltk_data]   Package omw-1.4 is already up-to-date!\n",
      "[nltk_data] Downloading package wordnet_ic to\n",
      "[nltk_data]     /Users/pandelissymeonidis/nltk_data...\n",
      "[nltk_data]   Package wordnet_ic is already up-to-date!\n"
     ]
    }
   ],
   "source": [
    "import nltk\n",
    "\n",
    "nltk.download('wordnet')\n",
    "nltk.download('omw-1.4')\n",
    "nltk.download('wordnet_ic')\n",
    "\n",
    "from nltk.corpus import wordnet_ic, wordnet as wn\n",
    "from itertools import combinations, product\n",
    "import matplotlib.pyplot as plt\n",
    "import pandas as pd\n",
    "import numpy as np"
   ]
  },
  {
   "cell_type": "markdown",
   "id": "68b5bde3",
   "metadata": {},
   "source": [
    "### Penn tag to Wordnet mapping"
   ]
  },
  {
   "cell_type": "code",
   "execution_count": 3,
   "id": "35f80fa2",
   "metadata": {},
   "outputs": [],
   "source": [
    "def convert_category(word: str, penn_tag: str):\n",
    "    d = {'NN': 'n', 'NNS': 'n',\n",
    "          'JJ': 'a', 'JJR': 'a', 'JJS': 'a',\n",
    "            'VB': 'v', 'VBD': 'v', 'VBG': 'v', 'VBN': 'v', 'VBP': 'v', 'VBZ': 'v', \n",
    "            'RB': 'r', 'RBR': 'r', 'RBS': 'r'} \n",
    "    \n",
    "    if penn_tag in d: \n",
    "        return word, d[penn_tag]\n",
    "    else:\n",
    "        return word, None "
   ]
  },
  {
   "cell_type": "markdown",
   "id": "245cec5b",
   "metadata": {},
   "source": [
    "### Step 1 Convert penn -> wordnet (POS)"
   ]
  },
  {
   "cell_type": "code",
   "execution_count": 4,
   "id": "698dfc70",
   "metadata": {},
   "outputs": [
    {
     "name": "stdout",
     "output_type": "stream",
     "text": [
      "[('man', 'n'), ('swim', 'v'), ('girl', 'n'), ('boy', 'n'), ('woman', 'n'), ('walk', 'v')]\n",
      "[Synset('man.n.01'), Synset('swim.v.01'), Synset('girl.n.01'), Synset('male_child.n.01'), Synset('woman.n.01'), Synset('walk.v.01')]\n",
      "[Synset('adult.n.01')]\n",
      "[Synset('man.n.01'), Synset('swim.v.01'), Synset('girl.n.01'), Synset('male_child.n.01'), Synset('woman.n.01'), Synset('walk.v.01')]\n",
      "[Synset('adult.n.01')]\n"
     ]
    }
   ],
   "source": [
    "pairs_penn = [('the','DT'), ('man','NN'), ('swim','VB'), ('with', 'PR'), ('a', 'DT'),\n",
    "('girl','NN'), ('and', 'CC'), ('a', 'DT'), ('boy', 'NN'), ('whilst', 'PR'),\n",
    "('the', 'DT'), ('woman', 'NN'), ('walk', 'VB')]\n",
    "\n",
    "converted = [convert_category(w, t) for w, t in pairs_penn]\n",
    "pairs_wn = [pair for pair in converted if pair[1]] # If pos = None, it is not indexed by wordnet\n",
    "print(pairs_wn)\n",
    "\n",
    "synsets = [wn.synsets(lemma=w, pos=t)[0] for w, t in pairs_wn] # Compute most frequent synset AKA synsets[0] as they are ordered by frequency\n",
    "print(synsets)\n",
    "print(synsets[0].lowest_common_hypernyms(synsets[2]))\n"
   ]
  },
  {
   "cell_type": "markdown",
   "id": "be011522",
   "metadata": {},
   "source": [
    "### Step 2 compute most frequenst synset for each word and confirm it is the most frequent"
   ]
  },
  {
   "cell_type": "code",
   "execution_count": 5,
   "id": "f122239f",
   "metadata": {},
   "outputs": [
    {
     "name": "stdout",
     "output_type": "stream",
     "text": [
      "[Synset('man.n.01'), Synset('swim.v.01'), Synset('girl.n.01'), Synset('male_child.n.01'), Synset('woman.n.01'), Synset('walk.v.01')]\n",
      "\n",
      "Verifying that synsets[0] is the most frequent:\n",
      "\n",
      "Word: man (pos: n)\n",
      "Selected synset: man.n.01\n",
      "Count for selected synset: 749\n",
      "All synsets and their counts:\n",
      "  0: man.n.01 -> count: 749 ← SELECTED\n",
      "  1: serviceman.n.01 -> count: 346\n",
      "  2: man.n.03 -> count: 87\n",
      "  3: homo.n.02 -> count: 29\n",
      "  4: man.n.05 -> count: 4\n",
      "  5: man.n.06 -> count: 3\n",
      "  6: valet.n.01 -> count: 0\n",
      "  7: man.n.08 -> count: 0\n",
      "  9: man.n.10 -> count: 0\n",
      "  10: world.n.08 -> count: 0\n",
      "Most frequent: True (max count: 749)\n",
      "\n",
      "Word: swim (pos: v)\n",
      "Selected synset: swim.v.01\n",
      "Count for selected synset: 12\n",
      "All synsets and their counts:\n",
      "  0: swim.v.01 -> count: 12 ← SELECTED\n",
      "  1: float.v.02 -> count: 1\n",
      "  2: swim.v.03 -> count: 0\n",
      "  3: swim.v.04 -> count: 0\n",
      "  4: swim.v.05 -> count: 0\n",
      "Most frequent: True (max count: 12)\n",
      "\n",
      "Word: girl (pos: n)\n",
      "Selected synset: girl.n.01\n",
      "Count for selected synset: 80\n",
      "All synsets and their counts:\n",
      "  0: girl.n.01 -> count: 80 ← SELECTED\n",
      "  1: female_child.n.01 -> count: 57\n",
      "  2: daughter.n.01 -> count: 8\n",
      "  3: girlfriend.n.02 -> count: 6\n",
      "  4: girl.n.05 -> count: 5\n",
      "Most frequent: True (max count: 80)\n",
      "\n",
      "Word: boy (pos: n)\n",
      "Selected synset: male_child.n.01\n",
      "Count for selected synset: 144\n",
      "All synsets and their counts:\n",
      "  0: male_child.n.01 -> count: 144 ← SELECTED\n",
      "  1: boy.n.02 -> count: 42\n",
      "  2: son.n.01 -> count: 16\n",
      "  3: boy.n.04 -> count: 1\n",
      "Most frequent: True (max count: 144)\n",
      "\n",
      "Word: woman (pos: n)\n",
      "Selected synset: woman.n.01\n",
      "Count for selected synset: 143\n",
      "All synsets and their counts:\n",
      "  0: woman.n.01 -> count: 143 ← SELECTED\n",
      "  1: woman.n.02 -> count: 1\n",
      "  2: charwoman.n.01 -> count: 0\n",
      "  3: womanhood.n.02 -> count: 0\n",
      "Most frequent: True (max count: 143)\n",
      "\n",
      "Word: walk (pos: v)\n",
      "Selected synset: walk.v.01\n",
      "Count for selected synset: 184\n",
      "All synsets and their counts:\n",
      "  0: walk.v.01 -> count: 184 ← SELECTED\n",
      "  1: walk.v.02 -> count: 3\n",
      "  2: walk.v.03 -> count: 3\n",
      "  3: walk.v.04 -> count: 1\n",
      "  4: walk.v.05 -> count: 1\n",
      "  5: walk.v.06 -> count: 0\n",
      "  6: walk.v.07 -> count: 0\n",
      "  7: walk.v.08 -> count: 0\n",
      "  8: walk.v.09 -> count: 0\n",
      "  9: walk.v.10 -> count: 0\n",
      "Most frequent: True (max count: 184)\n"
     ]
    }
   ],
   "source": [
    "synsets = [wn.synsets(lemma=w, pos=t)[0] for w, t in pairs_wn] # Compute most frequent synset AKA synsets[0] as they are ordered by frequency\n",
    "print(synsets)\n",
    "\n",
    "# Confirm that synsets[0] is the most frequent by checking lemma counts\n",
    "print(\"\\nVerifying that synsets[0] is the most frequent:\")\n",
    "for (word, pos), synset in zip(pairs_wn, synsets):\n",
    "    all_synsets = wn.synsets(lemma=word, pos=pos)\n",
    "    print(f\"\\nWord: {word} (pos: {pos})\")\n",
    "    print(f\"Selected synset: {synset.name()}\")\n",
    "    \n",
    "    # Get all lemmas for this synset and find the one matching our word\n",
    "    synset_lemmas = [lemma for lemma in synset.lemmas() if lemma.name() == word]\n",
    "    if synset_lemmas:\n",
    "        selected_count = synset_lemmas[0].count()\n",
    "        print(f\"Count for selected synset: {selected_count}\")\n",
    "        \n",
    "        # Check counts for all synsets of this word\n",
    "        print(\"All synsets and their counts:\")\n",
    "        for i, s in enumerate(all_synsets):\n",
    "            s_lemmas = [lemma for lemma in s.lemmas() if lemma.name() == word]\n",
    "            if s_lemmas:\n",
    "                count = s_lemmas[0].count()\n",
    "                marker = \" ← SELECTED\" if i == 0 else \"\"\n",
    "                print(f\"  {i}: {s.name()} -> count: {count}{marker}\")\n",
    "        \n",
    "        # Verify that the first synset has the highest count\n",
    "        max_count = max([lemma.count() for s in all_synsets for lemma in s.lemmas() if lemma.name() == word])\n",
    "        is_most_frequent = selected_count == max_count\n",
    "        print(f\"Most frequent: {is_most_frequent} (max count: {max_count})\")\n",
    "    else:\n",
    "        print(f\"No lemma found for word '{word}' in synset {synset.name()}\")"
   ]
  },
  {
   "cell_type": "markdown",
   "id": "68ea747d",
   "metadata": {},
   "source": [
    "### Step 3 Compute the least common hypernim whenever possible\n",
    "(It is not possible to do it when pos1!=pos2, cant get common hypernim of a verb vs noun)"
   ]
  },
  {
   "cell_type": "code",
   "execution_count": 6,
   "id": "a366889a",
   "metadata": {},
   "outputs": [
    {
     "name": "stdout",
     "output_type": "stream",
     "text": [
      "man[man.n.01] ~ girl[girl.n.01] -> LCH: adult.n.01 (depth=7)\n",
      "man[man.n.01] ~ boy[male_child.n.01] -> LCH: male.n.02 (depth=7)\n",
      "man[man.n.01] ~ woman[woman.n.01] -> LCH: adult.n.01 (depth=7)\n",
      "swim[swim.v.01] ~ walk[walk.v.01] -> LCH: travel.v.01 (depth=0)\n",
      "girl[girl.n.01] ~ boy[male_child.n.01] -> LCH: person.n.01 (depth=6)\n",
      "girl[girl.n.01] ~ woman[woman.n.01] -> LCH: woman.n.01 (depth=8)\n",
      "boy[male_child.n.01] ~ woman[woman.n.01] -> LCH: person.n.01 (depth=6)\n"
     ]
    }
   ],
   "source": [
    "content = [(w, t, wn.synsets(lemma=w, pos=t)[0]) for w, t, in pairs_wn]\n",
    "\n",
    "def depth(syn):\n",
    "    # depth = longest hypernym path length minus 1 (root=0)\n",
    "    return max(len(p) for p in syn.hypernym_paths()) - 1\n",
    "\n",
    "results = []\n",
    "for (w1, pos1, s1), (w2, pos2, s2) in combinations(content, 2):\n",
    "    if pos1 != pos2:\n",
    "        continue  # nouns with nouns, verbs with verbs\n",
    "    \n",
    "    lchs = s1.lowest_common_hypernyms(s2)\n",
    "    \n",
    "    if lchs:  # Check if there are any common hypernyms\n",
    "        lch = max(lchs, key=depth)  # Get the deepest (most specific) common hypernym\n",
    "        print(f\"{w1}[{s1.name()}] ~ {w2}[{s2.name()}] -> LCH: {lch.name()} (depth={depth(lch)})\")\n",
    "    else:\n",
    "        print(f\"{w1}[{s1.name()}] ~ {w2}[{s2.name()}] -> No common hypernyms found\")"
   ]
  },
  {
   "cell_type": "markdown",
   "id": "2608a3e6",
   "metadata": {},
   "source": [
    "## Another Way of checking best lch, not deepest."
   ]
  },
  {
   "cell_type": "code",
   "execution_count": 7,
   "id": "bbc98ead",
   "metadata": {},
   "outputs": [
    {
     "name": "stdout",
     "output_type": "stream",
     "text": [
      "man[man.n.01] ~ girl[girl.n.01] -> LCH: adult.n.01 (depth=7)\n",
      "man[man.n.01] ~ boy[boy.n.02] -> LCH: man.n.01 (depth=8)\n",
      "man[man.n.01] ~ woman[woman.n.01] -> LCH: adult.n.01 (depth=7)\n",
      "swim[swim.v.01] ~ walk[walk.v.01] -> LCH: travel.v.01 (depth=0)\n",
      "girl[daughter.n.01] ~ boy[son.n.01] -> LCH: child.n.02 (depth=9)\n",
      "girl[girl.n.01] ~ woman[woman.n.01] -> LCH: woman.n.01 (depth=8)\n",
      "boy[boy.n.02] ~ woman[woman.n.01] -> LCH: adult.n.01 (depth=7)\n"
     ]
    }
   ],
   "source": [
    "def best_lch(word1, pos1, word2, pos2):\n",
    "    syns1 = wn.synsets(word1, pos1)\n",
    "    syns2 = wn.synsets(word2, pos2)\n",
    "    best = None\n",
    "    best_score = -1\n",
    "    for s1, s2 in product(syns1, syns2):\n",
    "        lchs = s1.lowest_common_hypernyms(s2)\n",
    "        if not lchs: \n",
    "            continue\n",
    "        lch = max(lchs, key=depth)\n",
    "        if depth(lch) > best_score:\n",
    "            best = (s1, s2, lch)\n",
    "            best_score = depth(lch)\n",
    "    return best \n",
    "\n",
    "for (w1,p1),(w2,p2) in combinations([(w,p) for w,p,_ in content], 2):\n",
    "    if p1 != p2: \n",
    "        continue\n",
    "    res = best_lch(w1,p1,w2,p2)\n",
    "    if not res: \n",
    "        continue\n",
    "    s1, s2, lch = res\n",
    "    print(f\"{w1}[{s1.name()}] ~ {w2}[{s2.name()}] -> LCH: {lch.name()} (depth={depth(lch)})\")"
   ]
  },
  {
   "cell_type": "markdown",
   "id": "23b19675",
   "metadata": {},
   "source": [
    "### Step 4 compute similarity between pairs (when possible aka pos1=pos2) using 4 different methods"
   ]
  },
  {
   "cell_type": "code",
   "execution_count": 8,
   "id": "0b1ba57d",
   "metadata": {},
   "outputs": [
    {
     "name": "stdout",
     "output_type": "stream",
     "text": [
      "man[man.n.01] ~ swim[swim.v.01]\n",
      "  path=0.100  lch=—  wup=0.182  lin=—\n",
      "\n",
      "man[man.n.01] ~ girl[girl.n.01]\n",
      "  path=0.250  lch=2.251  wup=0.632  lin=0.714\n",
      "\n",
      "man[man.n.01] ~ boy[male_child.n.01]\n",
      "  path=0.333  lch=2.539  wup=0.667  lin=0.729\n",
      "\n",
      "man[man.n.01] ~ woman[woman.n.01]\n",
      "  path=0.333  lch=2.539  wup=0.667  lin=0.787\n",
      "\n",
      "man[man.n.01] ~ walk[walk.v.01]\n",
      "  path=0.100  lch=—  wup=0.182  lin=—\n",
      "\n",
      "swim[swim.v.01] ~ girl[girl.n.01]\n",
      "  path=0.091  lch=—  wup=0.167  lin=—\n",
      "\n",
      "swim[swim.v.01] ~ boy[male_child.n.01]\n",
      "  path=0.100  lch=—  wup=0.182  lin=—\n",
      "\n",
      "swim[swim.v.01] ~ woman[woman.n.01]\n",
      "  path=0.100  lch=—  wup=0.182  lin=—\n",
      "\n",
      "man[man.n.01] ~ girl[girl.n.01]\n",
      "  path=0.250  lch=2.251  wup=0.632  lin=0.714\n",
      "\n",
      "man[man.n.01] ~ boy[male_child.n.01]\n",
      "  path=0.333  lch=2.539  wup=0.667  lin=0.729\n",
      "\n",
      "man[man.n.01] ~ woman[woman.n.01]\n",
      "  path=0.333  lch=2.539  wup=0.667  lin=0.787\n",
      "\n",
      "man[man.n.01] ~ walk[walk.v.01]\n",
      "  path=0.100  lch=—  wup=0.182  lin=—\n",
      "\n",
      "swim[swim.v.01] ~ girl[girl.n.01]\n",
      "  path=0.091  lch=—  wup=0.167  lin=—\n",
      "\n",
      "swim[swim.v.01] ~ boy[male_child.n.01]\n",
      "  path=0.100  lch=—  wup=0.182  lin=—\n",
      "\n",
      "swim[swim.v.01] ~ woman[woman.n.01]\n",
      "  path=0.100  lch=—  wup=0.182  lin=—\n",
      "\n",
      "swim[swim.v.01] ~ walk[walk.v.01]\n",
      "  path=0.333  lch=2.159  wup=0.333  lin=0.491\n",
      "\n",
      "girl[girl.n.01] ~ boy[male_child.n.01]\n",
      "  path=0.167  lch=1.846  wup=0.632  lin=0.293\n",
      "\n",
      "girl[girl.n.01] ~ woman[woman.n.01]\n",
      "  path=0.500  lch=2.944  wup=0.632  lin=0.907\n",
      "\n",
      "girl[girl.n.01] ~ walk[walk.v.01]\n",
      "  path=0.091  lch=—  wup=0.167  lin=—\n",
      "\n",
      "boy[male_child.n.01] ~ woman[woman.n.01]\n",
      "  path=0.200  lch=2.028  wup=0.667  lin=0.318\n",
      "\n",
      "boy[male_child.n.01] ~ walk[walk.v.01]\n",
      "  path=0.100  lch=—  wup=0.182  lin=—\n",
      "\n",
      "woman[woman.n.01] ~ walk[walk.v.01]\n",
      "  path=0.100  lch=—  wup=0.182  lin=—\n",
      "\n",
      "swim[swim.v.01] ~ walk[walk.v.01]\n",
      "  path=0.333  lch=2.159  wup=0.333  lin=0.491\n",
      "\n",
      "girl[girl.n.01] ~ boy[male_child.n.01]\n",
      "  path=0.167  lch=1.846  wup=0.632  lin=0.293\n",
      "\n",
      "girl[girl.n.01] ~ woman[woman.n.01]\n",
      "  path=0.500  lch=2.944  wup=0.632  lin=0.907\n",
      "\n",
      "girl[girl.n.01] ~ walk[walk.v.01]\n",
      "  path=0.091  lch=—  wup=0.167  lin=—\n",
      "\n",
      "boy[male_child.n.01] ~ woman[woman.n.01]\n",
      "  path=0.200  lch=2.028  wup=0.667  lin=0.318\n",
      "\n",
      "boy[male_child.n.01] ~ walk[walk.v.01]\n",
      "  path=0.100  lch=—  wup=0.182  lin=—\n",
      "\n",
      "woman[woman.n.01] ~ walk[walk.v.01]\n",
      "  path=0.100  lch=—  wup=0.182  lin=—\n",
      "\n"
     ]
    }
   ],
   "source": [
    "brown_ic = wordnet_ic.ic('ic-brown.dat')\n",
    "\n",
    "def fmt(x, nd=3):\n",
    "    return \"—\" if x is None else f\"{x:.{nd}f}\"\n",
    "\n",
    "# Store similarity scores for each method\n",
    "similarity_scores_path = []\n",
    "similarity_scores_lch = []\n",
    "similarity_scores_wup = []\n",
    "similarity_scores_lin = []\n",
    "pair_labels = []\n",
    "\n",
    "for (w1, pos1, s1), (w2, pos2, s2) in combinations(content, 2):\n",
    "    path = s1.path_similarity(s2)\n",
    "    try:\n",
    "        lch = s1.lch_similarity(s2)\n",
    "    except Exception:\n",
    "        lch = None\n",
    "    wup = s1.wup_similarity(s2)\n",
    "    try:\n",
    "        lin = s1.lin_similarity(s2, brown_ic) if pos1 in ('n', 'v') else None\n",
    "    except Exception:\n",
    "        lin = None\n",
    "\n",
    "    # Store results\n",
    "    similarity_scores_path.append(path)\n",
    "    similarity_scores_lch.append(lch)\n",
    "    similarity_scores_wup.append(wup)\n",
    "    similarity_scores_lin.append(lin)\n",
    "    pair_labels.append(f\"{w1}[{s1.name()}] ~ {w2}[{s2.name()}]\")\n",
    "\n",
    "    print(f\"{w1}[{s1.name()}] ~ {w2}[{s2.name()}]\")\n",
    "    print(f\"  path={fmt(path)}  lch={fmt(lch)}  wup={fmt(wup)}  lin={fmt(lin)}\\n\")"
   ]
  },
  {
   "cell_type": "markdown",
   "id": "543ee9a9",
   "metadata": {},
   "source": [
    "### TODO"
   ]
  },
  {
   "cell_type": "markdown",
   "id": "37e8d1b9",
   "metadata": {},
   "source": [
    "- Confirm that synsets[0] is most frequent, by using .count() on the lemma (not very sure what that means)\n",
    "- Normalize similarities of each method so that they are comparable\n",
    "- Why does the least common hypernym sometimes not make sense (depending on which sense/synset you use) -> not the same comparing man v.s boy and man v.s male_child\n",
    "- Analysis"
   ]
  },
  {
   "cell_type": "markdown",
   "id": "b2c6a02a",
   "metadata": {},
   "source": [
    "## Analysis"
   ]
  },
  {
   "cell_type": "markdown",
   "id": "879161f2",
   "metadata": {},
   "source": []
  },
  {
   "cell_type": "code",
   "execution_count": 9,
   "id": "ce94b8d0",
   "metadata": {},
   "outputs": [
    {
     "name": "stdout",
     "output_type": "stream",
     "text": [
      "[[0.1               nan 0.18181818        nan]\n",
      " [0.25       0.61029151 0.63157895 0.71351112]\n",
      " [0.33333333 0.68827781 0.66666667 0.72947179]\n",
      " [0.33333333 0.68827781 0.66666667 0.78708414]\n",
      " [0.1               nan 0.18181818        nan]\n",
      " [0.09090909        nan 0.16666667        nan]\n",
      " [0.1               nan 0.18181818        nan]\n",
      " [0.1               nan 0.18181818        nan]\n",
      " [0.33333333 0.58540385 0.33333333 0.4910052 ]\n",
      " [0.16666667 0.50037599 0.63157895 0.29272807]\n",
      " [0.5        0.79819333 0.63157895 0.90677986]\n",
      " [0.09090909        nan 0.16666667        nan]\n",
      " [0.2        0.54980063 0.66666667 0.31842336]\n",
      " [0.1               nan 0.18181818        nan]\n",
      " [0.1               nan 0.18181818        nan]]\n",
      "['man[man.n.01] ~ swim[swim.v.01]' 'man[man.n.01] ~ girl[girl.n.01]'\n",
      " 'man[man.n.01] ~ boy[male_child.n.01]'\n",
      " 'man[man.n.01] ~ woman[woman.n.01]' 'man[man.n.01] ~ walk[walk.v.01]'\n",
      " 'swim[swim.v.01] ~ girl[girl.n.01]'\n",
      " 'swim[swim.v.01] ~ boy[male_child.n.01]'\n",
      " 'swim[swim.v.01] ~ woman[woman.n.01]' 'swim[swim.v.01] ~ walk[walk.v.01]'\n",
      " 'girl[girl.n.01] ~ boy[male_child.n.01]'\n",
      " 'girl[girl.n.01] ~ woman[woman.n.01]' 'girl[girl.n.01] ~ walk[walk.v.01]'\n",
      " 'boy[male_child.n.01] ~ woman[woman.n.01]'\n",
      " 'boy[male_child.n.01] ~ walk[walk.v.01]'\n",
      " 'woman[woman.n.01] ~ walk[walk.v.01]']\n"
     ]
    },
    {
     "data": {
      "image/png": "[encoded data removed]",
      "text/plain": [
       "<Figure size 1800x800 with 1 Axes>"
      ]
     },
     "metadata": {},
     "output_type": "display_data"
    }
   ],
   "source": [
    "import matplotlib.pyplot as plt\n",
    "import numpy as np\n",
    "\n",
    "labels = [\"Path Similarity\", \"LCH Similarity\", \"Wu-Palmer Similarity\", \"Lin Similarity\"]\n",
    "methods = [similarity_scores_path, similarity_scores_lch, similarity_scores_wup, similarity_scores_lin]\n",
    "pairs = np.array(pair_labels)\n",
    "\n",
    "# Only normalize LCH similarity using theoretical max value; others remain unchanged\n",
    "method_arrays = []\n",
    "# Set max depth for WordNet taxonomy (e.g., nouns D=20, so max_lch = log(40))\n",
    "D = 20\n",
    "max_lch = np.log(2 * D)  # ≈ 3.688879 for D=20\n",
    "\n",
    "for i, scores in enumerate(methods):\n",
    "    arr = np.array([s if s is not None else np.nan for s in scores])\n",
    "    if i == 1:  # LCH Similarity\n",
    "        arr_norm = arr / max_lch\n",
    "        method_arrays.append(arr_norm)\n",
    "    else:\n",
    "        method_arrays.append(arr)\n",
    "\n",
    "similarities = np.vstack(method_arrays).T  # shape: (num_pairs, num_methods)\n",
    "print(similarities)\n",
    "print(pairs)\n",
    "\n",
    "plt.figure(figsize=(18, 8))\n",
    "bar_width = 0.2\n",
    "x = np.arange(len(pairs))\n",
    "for i, label in enumerate(labels):\n",
    "    plt.bar(x + i * bar_width, similarities[:, i], width=bar_width, label=label)\n",
    "plt.xticks(x + 1.5 * bar_width, pairs, rotation=90)\n",
    "plt.ylabel('Similarity')\n",
    "plt.title('Similarity Scores for Each Word Pair by Method')\n",
    "plt.legend()\n",
    "plt.tight_layout()\n",
    "plt.show()"
   ]
  },
  {
   "cell_type": "markdown",
   "id": "73819708",
   "metadata": {},
   "source": []
  },
  {
   "cell_type": "markdown",
   "id": "0bbb1624",
   "metadata": {},
   "source": []
  }
 ],
 "metadata": {
  "kernelspec": {
   "display_name": ".venv",
   "language": "python",
   "name": "python3"
  },
  "language_info": {
   "codemirror_mode": {
    "name": "ipython",
    "version": 3
   },
   "file_extension": ".py",
   "mimetype": "text/x-python",
   "name": "python",
   "nbconvert_exporter": "python",
   "pygments_lexer": "ipython3",
   "version": "3.11.0"
  }
 },
 "nbformat": 4,
 "nbformat_minor": 5
}
